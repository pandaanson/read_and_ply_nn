{
 "cells": [
  {
   "cell_type": "code",
   "execution_count": 1,
   "metadata": {},
   "outputs": [
    {
     "ename": "FileNotFoundError",
     "evalue": "[Errno 2] No such file or directory: '/home/yui/Downloads/read_and_play/model_output/scaler.pkl'",
     "output_type": "error",
     "traceback": [
      "\u001b[0;31m---------------------------------------------------------------------------\u001b[0m",
      "\u001b[0;31mFileNotFoundError\u001b[0m                         Traceback (most recent call last)",
      "Cell \u001b[0;32mIn[1], line 57\u001b[0m\n\u001b[1;32m     55\u001b[0m \u001b[38;5;66;03m# Usage example:\u001b[39;00m\n\u001b[1;32m     56\u001b[0m model_directory \u001b[38;5;241m=\u001b[39m \u001b[38;5;124m'\u001b[39m\u001b[38;5;124m/home/yui/Downloads/read_and_play/model_output\u001b[39m\u001b[38;5;124m'\u001b[39m  \u001b[38;5;66;03m# Adjust the path as necessary\u001b[39;00m\n\u001b[0;32m---> 57\u001b[0m predictor \u001b[38;5;241m=\u001b[39m \u001b[43mQuantileModelPredictor\u001b[49m\u001b[43m(\u001b[49m\u001b[43mmodel_directory\u001b[49m\u001b[43m)\u001b[49m\n\u001b[1;32m     58\u001b[0m inputs \u001b[38;5;241m=\u001b[39m [\u001b[38;5;241m5000\u001b[39m, \u001b[38;5;241m1000\u001b[39m, \u001b[38;5;241m15000\u001b[39m, \u001b[38;5;241m2000\u001b[39m]  \u001b[38;5;66;03m# Example inputs\u001b[39;00m\n\u001b[1;32m     59\u001b[0m manual_outputs \u001b[38;5;241m=\u001b[39m predictor\u001b[38;5;241m.\u001b[39mpredict_quantiles(inputs)\n",
      "Cell \u001b[0;32mIn[1], line 10\u001b[0m, in \u001b[0;36mQuantileModelPredictor.__init__\u001b[0;34m(self, model_directory)\u001b[0m\n\u001b[1;32m      8\u001b[0m \u001b[38;5;28;01mdef\u001b[39;00m \u001b[38;5;21m__init__\u001b[39m(\u001b[38;5;28mself\u001b[39m, model_directory):\n\u001b[1;32m      9\u001b[0m     \u001b[38;5;66;03m# Load the scaler and ensure it outputs float64\u001b[39;00m\n\u001b[0;32m---> 10\u001b[0m     \u001b[38;5;28mself\u001b[39m\u001b[38;5;241m.\u001b[39mscaler \u001b[38;5;241m=\u001b[39m \u001b[43mjoblib\u001b[49m\u001b[38;5;241;43m.\u001b[39;49m\u001b[43mload\u001b[49m\u001b[43m(\u001b[49m\u001b[43mos\u001b[49m\u001b[38;5;241;43m.\u001b[39;49m\u001b[43mpath\u001b[49m\u001b[38;5;241;43m.\u001b[39;49m\u001b[43mjoin\u001b[49m\u001b[43m(\u001b[49m\u001b[43mmodel_directory\u001b[49m\u001b[43m,\u001b[49m\u001b[43m \u001b[49m\u001b[38;5;124;43m'\u001b[39;49m\u001b[38;5;124;43mscaler.pkl\u001b[39;49m\u001b[38;5;124;43m'\u001b[39;49m\u001b[43m)\u001b[49m\u001b[43m)\u001b[49m\n\u001b[1;32m     12\u001b[0m     \u001b[38;5;28mself\u001b[39m\u001b[38;5;241m.\u001b[39mweights \u001b[38;5;241m=\u001b[39m []\n\u001b[1;32m     13\u001b[0m     \u001b[38;5;28mself\u001b[39m\u001b[38;5;241m.\u001b[39mbiases \u001b[38;5;241m=\u001b[39m []\n",
      "File \u001b[0;32m~/.local/lib/python3.10/site-packages/joblib/numpy_pickle.py:650\u001b[0m, in \u001b[0;36mload\u001b[0;34m(filename, mmap_mode)\u001b[0m\n\u001b[1;32m    648\u001b[0m         obj \u001b[38;5;241m=\u001b[39m _unpickle(fobj)\n\u001b[1;32m    649\u001b[0m \u001b[38;5;28;01melse\u001b[39;00m:\n\u001b[0;32m--> 650\u001b[0m     \u001b[38;5;28;01mwith\u001b[39;00m \u001b[38;5;28;43mopen\u001b[39;49m\u001b[43m(\u001b[49m\u001b[43mfilename\u001b[49m\u001b[43m,\u001b[49m\u001b[43m \u001b[49m\u001b[38;5;124;43m'\u001b[39;49m\u001b[38;5;124;43mrb\u001b[39;49m\u001b[38;5;124;43m'\u001b[39;49m\u001b[43m)\u001b[49m \u001b[38;5;28;01mas\u001b[39;00m f:\n\u001b[1;32m    651\u001b[0m         \u001b[38;5;28;01mwith\u001b[39;00m _read_fileobject(f, filename, mmap_mode) \u001b[38;5;28;01mas\u001b[39;00m fobj:\n\u001b[1;32m    652\u001b[0m             \u001b[38;5;28;01mif\u001b[39;00m \u001b[38;5;28misinstance\u001b[39m(fobj, \u001b[38;5;28mstr\u001b[39m):\n\u001b[1;32m    653\u001b[0m                 \u001b[38;5;66;03m# if the returned file object is a string, this means we\u001b[39;00m\n\u001b[1;32m    654\u001b[0m                 \u001b[38;5;66;03m# try to load a pickle file generated with an version of\u001b[39;00m\n\u001b[1;32m    655\u001b[0m                 \u001b[38;5;66;03m# Joblib so we load it with joblib compatibility function.\u001b[39;00m\n",
      "\u001b[0;31mFileNotFoundError\u001b[0m: [Errno 2] No such file or directory: '/home/yui/Downloads/read_and_play/model_output/scaler.pkl'"
     ]
    }
   ],
   "source": [
    "from typing_extensions import Self\n",
    "import numpy as np\n",
    "import os\n",
    "import joblib\n",
    "import torch\n",
    "\n",
    "class QuantileModelPredictor:\n",
    "    def __init__(self, model_directory):\n",
    "        # Load the scaler and ensure it outputs float64\n",
    "        self.scaler = joblib.load(os.path.join(model_directory, 'scaler.pkl'))\n",
    "\n",
    "        self.weights = []\n",
    "        self.biases = []\n",
    "\n",
    "        # Load quantiles and their corresponding model weights and biases\n",
    "        quantiles = np.load(os.path.join(model_directory, 'quantiles.npy'), allow_pickle=True)\n",
    "        self.quantiles = quantiles\n",
    "\n",
    "        for q in self.quantiles:\n",
    "            model_path = os.path.join(model_directory, f'model_quantile_{q}.pth')\n",
    "            model_info = torch.load(model_path)\n",
    "            # Initialize lists to hold weights and biases for the quantile model\n",
    "            model_weights = []\n",
    "            model_biases = []\n",
    "\n",
    "            # Extract weights and biases from model state dictionary and convert them to float64\n",
    "            for name, param in model_info['state_dict'].items():\n",
    "                if 'weight' in name:\n",
    "                    model_weights.append(param.detach().numpy().astype(np.float64))\n",
    "                elif 'bias' in name:\n",
    "                    model_biases.append(param.detach().numpy().astype(np.float64))\n",
    "\n",
    "            self.weights.append(model_weights)\n",
    "            self.biases.append(model_biases)\n",
    "\n",
    "\n",
    "    def predict_quantiles(self, inputs):\n",
    "      inputs = np.array(inputs, dtype=np.float64).reshape(1, -1)\n",
    "      scaled_inputs = self.scaler.transform(inputs).astype(np.float64)\n",
    "\n",
    "      manual_outputs = []\n",
    "      for i in range(len(self.quantiles)):\n",
    "          x = scaled_inputs\n",
    "          layers = len(self.weights[i])\n",
    "          for j in range(layers):\n",
    "              weights = self.weights[i][j]\n",
    "              biases = self.biases[i][j]\n",
    "              x = np.dot(x, weights.T) + biases\n",
    "              if j < layers - 1:  # Apply ReLU to all but the last layer\n",
    "                  x = np.maximum(0, x)\n",
    "          manual_outputs.append(x.flatten()[0])\n",
    "\n",
    "      return manual_outputs\n",
    "\n",
    "# Usage example:\n",
    "model_directory = '/home/yui/Downloads/read_and_play/model_output'  # Adjust the path as necessary\n",
    "predictor = QuantileModelPredictor(model_directory)\n",
    "inputs = [5000, 1000, 15000, 2000]  # Example inputs\n",
    "manual_outputs = predictor.predict_quantiles(inputs)\n",
    "print(\"qunatiles:\", predictor.quantiles)\n",
    "print(\"Manual Outputs:\", manual_outputs)"
   ]
  }
 ],
 "metadata": {
  "kernelspec": {
   "display_name": "Python 3",
   "language": "python",
   "name": "python3"
  },
  "language_info": {
   "codemirror_mode": {
    "name": "ipython",
    "version": 3
   },
   "file_extension": ".py",
   "mimetype": "text/x-python",
   "name": "python",
   "nbconvert_exporter": "python",
   "pygments_lexer": "ipython3",
   "version": "3.10.12"
  }
 },
 "nbformat": 4,
 "nbformat_minor": 2
}
